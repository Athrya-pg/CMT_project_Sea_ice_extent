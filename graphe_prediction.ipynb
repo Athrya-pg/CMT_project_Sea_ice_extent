{
 "cells": [
  {
   "cell_type": "markdown",
   "metadata": {},
   "source": [
    "Visualisation of sea ice extent predictect vs CO2 "
   ]
  },
  {
   "cell_type": "code",
   "execution_count": null,
   "metadata": {},
   "outputs": [
    {
     "ename": "SyntaxError",
     "evalue": "invalid syntax (3653609914.py, line 22)",
     "output_type": "error",
     "traceback": [
      "\u001b[1;36m  Cell \u001b[1;32mIn[15], line 22\u001b[1;36m\u001b[0m\n\u001b[1;33m    plt.text(1655,7, 'RMSE : %0.3f' %RMSE, fontsize=12) ?\u001b[0m\n\u001b[1;37m                                                        ^\u001b[0m\n\u001b[1;31mSyntaxError\u001b[0m\u001b[1;31m:\u001b[0m invalid syntax\n"
     ]
    }
   ],
   "source": [
    "import numpy as np\n",
    "import matplotlib.pyplot as plt\n",
    "import pandas as pd\n",
    "\n",
    "# Charger les données (les observations et les prédictions)\n",
    "observations_nh = pd.read_csv('sea_ice_nh.csv')  # Observation de l'Hémisphère Nord\n",
    "observations_sh = pd.read_csv('sea_ice_sh.csv')  # Observation de l'Hémisphère Sud\n",
    "x = pd.read_csv('summed_co2.csv')  # Emissions de CO2\n",
    "x = x['CO2_Mass']\n",
    "predictions_nh = pd.read_csv('LinearReg.csv')  # Prédictions de l'Hémisphère Nord\n",
    "predictions_sh = pd.read_csv('LinearReg.csv')  # Prédictions de l'Hémisphère Sud\n",
    "print(predictions_nh.head())\n",
    "\n",
    "y_obs_nh = observations_nh['Annual']  # Observations de l'Hémisphère Nord\n",
    "y_obs_sh = observations_sh['Annual']  # Observations de l'Hémisphère Nord\n",
    "y_pred_nh = predictions_nh[\"Pred_North\"]  # Prédictions de l'Hémisphère Nord\n",
    "y_pred_sh = predictions_sh['Pred_South']  # Prédictions de l'Hémisphère Nord\n",
    "\n",
    "\n",
    "plt.scatter(x, y_obs_nh, label='Observations', color='blue')  # Afficher les observations\n",
    "plt.plot(x, y_pred_nh, label='Linear Regression Model', color='red')  # Afficher les prédictions\n",
    "\n",
    "plt.xlabel('Carbon Dioxide (Gt)', fontsize=12)\n",
    "plt.ylabel('Ice Surface (million km²)', fontsize=12)\n",
    "plt.title(' Global CO2 emissions vs Arctic Sea Ice Extent')\n",
    "plt.legend(loc ='upper right')\n",
    "plt.grid(True)\n",
    "plt.savefig('LinearRegression_CO2vsICE_year.png')\n",
    "plt.show()\n",
    "\n"
   ]
  }
 ],
 "metadata": {
  "kernelspec": {
   "display_name": "base",
   "language": "python",
   "name": "python3"
  },
  "language_info": {
   "codemirror_mode": {
    "name": "ipython",
    "version": 3
   },
   "file_extension": ".py",
   "mimetype": "text/x-python",
   "name": "python",
   "nbconvert_exporter": "python",
   "pygments_lexer": "ipython3",
   "version": "3.12.4"
  }
 },
 "nbformat": 4,
 "nbformat_minor": 2
}
