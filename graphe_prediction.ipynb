{
 "cells": [
  {
   "cell_type": "markdown",
   "metadata": {},
   "source": [
    "Visualisation of sea ice extent predictect vs ..."
   ]
  },
  {
   "cell_type": "code",
   "execution_count": null,
   "metadata": {},
   "outputs": [],
   "source": [
    "import numpy as np\n",
    "import matplotlib.pyplot as plt\n",
    "\n",
    "\n",
    "x = [...]  # Données des émissions GES\n",
    "y_real = [...]  # Données banquise\n",
    "y_pred = [...]  # Prédictions du modèle (m * x + b)\n",
    "\n",
    "plt.scatter(x, y_real, label='Observations', color='blue')  # Afficher les observations\n",
    "plt.plot(x, y_pred, label='Linear Regression Model', color='red')  # Afficher les prédictions\n",
    "#plt.text(1655,7, 'RMSE : %0.3f' %RMSE, fontsize=12) ?\n",
    "plt.xlabel('Carbon Dioxide (Gt)', fontsize=12)\n",
    "plt.ylabel('Ice Surface (million km²)', fontsize=12)\n",
    "plt.title(' Global CO2 emissions vs Arctic Sea Ice Extent')\n",
    "plt.legend(loc ='lower left')\n",
    "plt.grid(True)\n",
    "plt.savefig('LinearRegression_CO2vsICE_year.png')\n",
    "plt.show()"
   ]
  }
 ],
 "metadata": {
  "kernelspec": {
   "display_name": "base",
   "language": "python",
   "name": "python3"
  },
  "language_info": {
   "name": "python",
   "version": "3.12.4"
  }
 },
 "nbformat": 4,
 "nbformat_minor": 2
}
